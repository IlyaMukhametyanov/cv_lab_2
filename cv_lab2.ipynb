{
 "cells": [
  {
   "cell_type": "code",
   "execution_count": 2,
   "metadata": {
    "collapsed": true
   },
   "outputs": [],
   "source": [
    "import matplotlib.pyplot as plt\n",
    "import cv2\n",
    "import matplotlib.pyplot as plt"
   ]
  },
  {
   "cell_type": "code",
   "execution_count": 22,
   "outputs": [],
   "source": [
    "# поиск по ключевым точкам, получить peak coord\n",
    "\n",
    "def matchTemplate(path_img, path_pattern):\n",
    "    # тут тодлжен быть свой код\n",
    "    # необходимо найти ключевые точки и вывести координаты рамки\n",
    "\n",
    "    # для тестирования можно использовать функции ниже\n",
    "    #matching_output = cv2.matchTemplate(input_image, pattern_template, cv2.TM_CCOEFF_NORMED)\n",
    "    #least_value, peak_value, least_coord, peak_coord = cv2.minMaxLoc(matching_output)\n",
    "\n",
    "    # Highlight the best match in the input image\n",
    "    highlight_start = peak_coord\n",
    "    pattern_w, pattern_h = pattern_template.shape[::-1]\n",
    "    highlight_end = (highlight_start[0] + pattern_w, highlight_start[1] + pattern_h)\n",
    "    return highlight_start, highlight_end\n"
   ],
   "metadata": {
    "collapsed": false
   }
  },
  {
   "cell_type": "code",
   "execution_count": 23,
   "outputs": [],
   "source": [
    "def show(input_image, pattern_template, highlight_start, highlight_end,row):\n",
    "    cv2.rectangle(input_image,(row[\"x1\"],row[\"y1\"]), (row[\"x2\"],row[\"y2\"]),(255,0,0), 2)\n",
    "    cv2.rectangle(input_image, highlight_start, highlight_end, 255, 2)\n",
    "    # Visualize the pattern template and resulting image\n",
    "    fig_instance, axes_arr = plt.subplots(1, 2, figsize=(10, 5))\n",
    "\n",
    "    # Show the pattern template\n",
    "    axes_arr[0].imshow(pattern_template, cmap='gray')\n",
    "    axes_arr[0].set_title('Pattern Template')\n",
    "\n",
    "    # Show the input image with the highlighted match\n",
    "    axes_arr[1].imshow(input_image, cmap='gray')\n",
    "    axes_arr[1].set_title('Pattern Highlighted')\n",
    "\n",
    "    plt.show()"
   ],
   "metadata": {
    "collapsed": false
   }
  },
  {
   "cell_type": "code",
   "execution_count": 42,
   "outputs": [],
   "source": [
    "# iou\n",
    "\n",
    "def iou(row, highlight_start, highlight_end):\n",
    "    true_points_set = set([])\n",
    "    pred_points_set= set([])\n",
    "\n",
    "    for x in range(row[\"x1\"], row[\"x2\"]):\n",
    "        for y in range(row[\"y1\"], row[\"y2\"]):\n",
    "                true_points_set.add((x,y))\n",
    "\n",
    "        for x in range(highlight_start[0],highlight_end[0]):\n",
    "            for y in range(highlight_start[1], highlight_end[1]):\n",
    "                pred_points_set.add((x,y))\n",
    "    iou_metric = len(true_points_set.intersection(pred_points_set)) / len(true_points_set.union(pred_points_set))\n",
    "    return iou_metric"
   ],
   "metadata": {
    "collapsed": false
   }
  },
  {
   "cell_type": "code",
   "execution_count": null,
   "outputs": [],
   "source": [
    "# загрузка изображений, перебор\n",
    "import statistics\n",
    "from PIL import Image, ImageFilter\n",
    "import numpy as np\n",
    "import pandas as pd\n",
    "dataset = pd.read_csv('dataset/annotation.csv', delimiter=';')\n",
    "dataset.head()\n",
    "iou_array=[]\n",
    "for i in range(0,36):\n",
    "    row = dataset.iloc[i]\n",
    "    highlight_start, highlight_end =matchTemplate(f\"dataset/{row['id']}.jpg\", f\"dataset/pattern/cropped_img_{row['id']}.jpg\")\n",
    "    iou_metric = iou(row,highlight_start,highlight_end)\n",
    "    print(iou_metric)\n",
    "    iou_array.append(iou_metric)\n",
    "\n",
    "iou_mean = statistics.mean(iou_array)"
   ],
   "metadata": {
    "collapsed": false,
    "pycharm": {
     "is_executing": true
    }
   }
  }
 ],
 "metadata": {
  "kernelspec": {
   "display_name": "Python 3",
   "language": "python",
   "name": "python3"
  },
  "language_info": {
   "codemirror_mode": {
    "name": "ipython",
    "version": 2
   },
   "file_extension": ".py",
   "mimetype": "text/x-python",
   "name": "python",
   "nbconvert_exporter": "python",
   "pygments_lexer": "ipython2",
   "version": "2.7.6"
  }
 },
 "nbformat": 4,
 "nbformat_minor": 0
}
